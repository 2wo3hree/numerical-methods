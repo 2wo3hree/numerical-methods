{
 "cells": [
  {
   "cell_type": "markdown",
   "metadata": {},
   "source": [
    "Задача №1"
   ]
  },
  {
   "cell_type": "code",
   "execution_count": 26,
   "metadata": {},
   "outputs": [
    {
     "name": "stdout",
     "output_type": "stream",
     "text": [
      "2.001953125\n"
     ]
    }
   ],
   "source": [
    "def dih(func, x0, x1, e, max_iter):\n",
    "    if func(x0) * func(x1) >= 0:\n",
    "        raise ValueError(\"Знаки функции должны быть разные\")\n",
    "    \n",
    "    iter_count = 0\n",
    "    while (x1 - x0) / 2 > e and iter_count < max_iter:\n",
    "        mid = (x0 + x1) / 2\n",
    "        if func(mid) == 0:\n",
    "            return mid\n",
    "        elif func(mid) * func(x0) < 0:\n",
    "            x1= mid\n",
    "        else:\n",
    "            x0 = mid\n",
    "        iter_count += 1\n",
    "    \n",
    "    return (x0 + x1) / 2\n",
    "\n",
    "\n",
    "if __name__ == \"__main__\":\n",
    "\n",
    "    def f(x):\n",
    "        return (x - 2) * ((x - 3) ** 2) * (x - 7)\n",
    "\n",
    "    x0 = 0\n",
    "    x1 = 2.5\n",
    "    e = 0.01\n",
    "    max_iter = 100\n",
    "    root = dih(f, x0, x1, e, max_iter)\n",
    "    print(root)"
   ]
  },
  {
   "cell_type": "markdown",
   "metadata": {},
   "source": [
    "Задача №2"
   ]
  },
  {
   "cell_type": "code",
   "execution_count": 23,
   "metadata": {},
   "outputs": [
    {
     "name": "stdout",
     "output_type": "stream",
     "text": [
      "Найденный корень: 2.23606797749979\n",
      "Количество итераций: 1\n"
     ]
    }
   ],
   "source": [
    "def simple_iteration(x0, e, max_iter , a):\n",
    "    x = x0\n",
    "    i = 0\n",
    "    \n",
    "    while i < max_iter:\n",
    "        xNext = equation(x , a)\n",
    "        if abs(xNext - x) < e:\n",
    "            return xNext, i + 1\n",
    "        x = xNext\n",
    "        i + 1\n",
    "\n",
    "\n",
    "if __name__ == \"__main__\":\n",
    "    def equation(x , a):\n",
    "        return (x + (a / x)) / 2\n",
    "\n",
    "    x0 = 2\n",
    "    e = 1e-5   \n",
    "    max_iterations = 20\n",
    "    a = 5\n",
    "    root, iterations = simple_iteration(x0, e, max_iterations, a)\n",
    "\n",
    "    print(f\"Найденный корень: {root}\")\n",
    "    print(f\"Количество итераций: {iterations}\")\n"
   ]
  }
 ],
 "metadata": {
  "kernelspec": {
   "display_name": "Python 3",
   "language": "python",
   "name": "python3"
  },
  "language_info": {
   "codemirror_mode": {
    "name": "ipython",
    "version": 3
   },
   "file_extension": ".py",
   "mimetype": "text/x-python",
   "name": "python",
   "nbconvert_exporter": "python",
   "pygments_lexer": "ipython3",
   "version": "3.10.6"
  },
  "orig_nbformat": 4
 },
 "nbformat": 4,
 "nbformat_minor": 2
}
