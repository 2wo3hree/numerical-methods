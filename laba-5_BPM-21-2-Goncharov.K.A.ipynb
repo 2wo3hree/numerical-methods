{
 "cells": [
  {
   "cell_type": "markdown",
   "metadata": {},
   "source": [
    "1. Глобальный способ"
   ]
  },
  {
   "cell_type": "markdown",
   "metadata": {},
   "source": [
    "Лабораторная работа № 5"
   ]
  },
  {
   "cell_type": "markdown",
   "metadata": {},
   "source": [
    "Многочлены Лагранжа (для сетки на 4 значения):"
   ]
  },
  {
   "cell_type": "code",
   "execution_count": 1,
   "metadata": {},
   "outputs": [
    {
     "name": "stdout",
     "output_type": "stream",
     "text": [
      "Глобальный способ: При x=2.5, значение y=2.5\n"
     ]
    }
   ],
   "source": [
    "def interpolation_global(x, y, target_x):\n",
    "    result = 0\n",
    "    n = len(x)\n",
    "    for i in range(n):\n",
    "        term = y[i]\n",
    "        for j in range(n):\n",
    "            if j != i:\n",
    "                term = term * (target_x - x[j]) / (x[i] - x[j])\n",
    "        result += term\n",
    "\n",
    "    return result\n",
    "\n",
    "x = [1, 2, 3, 4]\n",
    "y = [2, 4, 1, 3]\n",
    "target_x = 2.5\n",
    "\n",
    "result = interpolation_global(x, y, target_x)\n",
    "print(f\"Глобальный способ: При x={target_x}, значение y={result}\")\n"
   ]
  },
  {
   "cell_type": "markdown",
   "metadata": {},
   "source": [
    "2. Линейная интерполяция"
   ]
  },
  {
   "cell_type": "code",
   "execution_count": 2,
   "metadata": {},
   "outputs": [
    {
     "name": "stdout",
     "output_type": "stream",
     "text": [
      "Линейная интерполяция: При x=2.5, значение y=2.5\n"
     ]
    }
   ],
   "source": [
    "def linear_interpolation(x, y, target_x):\n",
    "    n = len(x)\n",
    "    for i in range(n - 1):\n",
    "        if x[i] <= target_x <= x[i + 1]:\n",
    "            slope = (y[i + 1] - y[i]) / (x[i + 1] - x[i])\n",
    "            result = y[i] + slope * (target_x - x[i])\n",
    "            return result\n",
    "\n",
    "x = [1, 2, 3, 4]\n",
    "y = [2, 4, 1, 3]\n",
    "target_x = 2.5\n",
    "\n",
    "result = linear_interpolation(x, y, target_x)\n",
    "print(f\"Линейная интерполяция: При x={target_x}, значение y={result}\")\n"
   ]
  },
  {
   "cell_type": "markdown",
   "metadata": {},
   "source": [
    "3. Параболическая интерполяция (две усредненных параболы)"
   ]
  },
  {
   "cell_type": "code",
   "execution_count": 3,
   "metadata": {},
   "outputs": [
    {
     "name": "stdout",
     "output_type": "stream",
     "text": [
      "Параболическая интерполяция: При x=2.5, значение y=-3.25\n"
     ]
    }
   ],
   "source": [
    "def parabolic_interpolation(x, y, target_x):\n",
    "    n = len(x)\n",
    "    for i in range(n - 2):\n",
    "        if x[i] <= target_x <= x[i + 2]:\n",
    "            h = x[i + 1] - x[i]\n",
    "            t = (target_x - x[i]) / h\n",
    "            result = (1 - t) * ((1 - t) * y[i] + t * y[i + 1]) + t * ((1 - t) * y[i + 1] + t * y[i + 2])\n",
    "            return result\n",
    "\n",
    "# Пример использования\n",
    "x = [1, 2, 3, 4]\n",
    "y = [2, 4, 1, 3]\n",
    "target_x = 2.5\n",
    "\n",
    "result = parabolic_interpolation(x, y, target_x)\n",
    "print(f\"Параболическая интерполяция: При x={target_x}, значение y={result}\")\n"
   ]
  }
 ],
 "metadata": {
  "kernelspec": {
   "display_name": "Python 3",
   "language": "python",
   "name": "python3"
  },
  "language_info": {
   "codemirror_mode": {
    "name": "ipython",
    "version": 3
   },
   "file_extension": ".py",
   "mimetype": "text/x-python",
   "name": "python",
   "nbconvert_exporter": "python",
   "pygments_lexer": "ipython3",
   "version": "3.10.6"
  }
 },
 "nbformat": 4,
 "nbformat_minor": 2
}
