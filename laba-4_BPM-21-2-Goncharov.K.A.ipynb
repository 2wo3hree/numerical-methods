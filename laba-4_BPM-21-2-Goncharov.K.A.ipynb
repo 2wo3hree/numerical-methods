{
 "cells": [
  {
   "cell_type": "markdown",
   "metadata": {},
   "source": [
    "Лабораторная работа № 4\n"
   ]
  },
  {
   "cell_type": "markdown",
   "metadata": {},
   "source": [
    "Нахождение собственных значений и собственных векторов"
   ]
  },
  {
   "cell_type": "markdown",
   "metadata": {},
   "source": [
    "2) Метод итераций (найти только максимальное по модулю собств. знач и соотв вектор)"
   ]
  },
  {
   "cell_type": "code",
   "execution_count": 1,
   "metadata": {},
   "outputs": [
    {
     "name": "stdout",
     "output_type": "stream",
     "text": [
      "3.414213562371329\n",
      "[-0.49999921  0.70710678 -0.50000079]\n"
     ]
    }
   ],
   "source": [
    "import numpy as np\n",
    "\n",
    "def power_iteration(A, num_iterations=1000, tolerance=1e-6):\n",
    "    n = A.shape[0]\n",
    "    x = np.random.rand(n)\n",
    "    \n",
    "    for i in range(num_iterations):\n",
    "        Ax = A @ x\n",
    "        x_new = Ax / np.linalg.norm(Ax)\n",
    "        delta = np.linalg.norm(x_new - x)\n",
    "        x = x_new\n",
    "        if delta < tolerance:\n",
    "            break\n",
    "    \n",
    "    eigenvalue = x @ (A @ x) / (x @ x)\n",
    "    \n",
    "    return eigenvalue, x\n",
    "\n",
    "A = np.array([[2, -1, 0],\n",
    "              [-1, 2, -1],\n",
    "              [0, -1, 2]])\n",
    "\n",
    "max_eigenvalue, max_eigenvector = power_iteration(A)\n",
    "print(max_eigenvalue)\n",
    "print(max_eigenvector)\n"
   ]
  },
  {
   "cell_type": "markdown",
   "metadata": {},
   "source": [
    "3) Метод вращения (найти все векторы и собств. знач)"
   ]
  },
  {
   "cell_type": "code",
   "execution_count": 2,
   "metadata": {},
   "outputs": [
    {
     "name": "stdout",
     "output_type": "stream",
     "text": [
      "Собственные значения: [1.62771868 7.37228132 3.        ]\n",
      "Собственные векторы:\n",
      "Собственное значение 1: 1.627718676730986\n",
      "Собственный вектор 1: [0.45440135 0.76618459 0.45440135]\n",
      "Собственное значение 2: 7.372281323269014\n",
      "Собственный вектор 2: [-0.54177432  0.64262055 -0.54177432]\n",
      "Собственное значение 3: 3.0000000000000004\n",
      "Собственный вектор 3: [-7.07106781e-01  1.82099552e-10  7.07106781e-01]\n"
     ]
    }
   ],
   "source": [
    "import numpy as np\n",
    "\n",
    "def jacobi_eigenvalue(A, max_iterations=100, tolerance=1e-6):\n",
    "    n = A.shape[0]\n",
    "    P = np.eye(n)\n",
    "    \n",
    "    for _ in range(max_iterations):\n",
    "        max_off_diagonal = 0\n",
    "        row, col = 0, 0\n",
    "        for i in range(n):\n",
    "            for j in range(i + 1, n):\n",
    "                if abs(A[i, j]) > max_off_diagonal:\n",
    "                    max_off_diagonal = abs(A[i, j])\n",
    "                    row, col = i, j\n",
    "        \n",
    "        if max_off_diagonal < tolerance:\n",
    "            break\n",
    "        if A[row, row] == A[col, col]:\n",
    "            angle = np.pi / 4\n",
    "        else:\n",
    "            angle = 0.5 * np.arctan(2 * A[row, col] / (A[row, row] - A[col, col]))\n",
    "\n",
    "        R = np.eye(n)\n",
    "        R[row, row] = np.cos(angle)\n",
    "        R[col, col] = np.cos(angle)\n",
    "        R[row, col] = -np.sin(angle)\n",
    "        R[col, row] = np.sin(angle)\n",
    "\n",
    "        A = R.T @ A @ R\n",
    "        P = P @ R\n",
    "\n",
    "    eigenvalues = A.diagonal()\n",
    "    return eigenvalues, P\n",
    "\n",
    "A = np.array([[4, -2, 1],\n",
    "              [-2, 4, -2],\n",
    "              [1, -2, 4]])\n",
    "\n",
    "eigenvalues, eigenvectors = jacobi_eigenvalue(A)\n",
    "print(\"Собственные значения:\", eigenvalues)\n",
    "print(\"Собственные векторы:\")\n",
    "for i in range(len(eigenvalues)):\n",
    "    print(f\"Собственное значение {i+1}: {eigenvalues[i]}\")\n",
    "    print(f\"Собственный вектор {i+1}:\", eigenvectors[:, i])\n"
   ]
  }
 ],
 "metadata": {
  "kernelspec": {
   "display_name": "Python 3",
   "language": "python",
   "name": "python3"
  },
  "language_info": {
   "codemirror_mode": {
    "name": "ipython",
    "version": 3
   },
   "file_extension": ".py",
   "mimetype": "text/x-python",
   "name": "python",
   "nbconvert_exporter": "python",
   "pygments_lexer": "ipython3",
   "version": "3.10.6"
  }
 },
 "nbformat": 4,
 "nbformat_minor": 2
}
