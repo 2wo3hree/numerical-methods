{
 "cells": [
  {
   "cell_type": "markdown",
   "metadata": {},
   "source": [
    "Лабораторная работа № 3"
   ]
  },
  {
   "cell_type": "markdown",
   "metadata": {},
   "source": [
    "Итерационные методы:"
   ]
  },
  {
   "cell_type": "markdown",
   "metadata": {},
   "source": [
    "1) Метод простых итераций"
   ]
  },
  {
   "cell_type": "code",
   "execution_count": 1,
   "metadata": {},
   "outputs": [],
   "source": [
    "import numpy as np"
   ]
  },
  {
   "cell_type": "code",
   "execution_count": 14,
   "metadata": {},
   "outputs": [
    {
     "name": "stdout",
     "output_type": "stream",
     "text": [
      "Решение: [0.80357145 0.92857145 1.05357145]\n"
     ]
    }
   ],
   "source": [
    "import numpy as np\n",
    "\n",
    "def simple_iteration_method(A, b, x0, eps=1e-6, max_iter=1000) -> list:\n",
    "    n = len(b)\n",
    "    x = x0.copy()  \n",
    "    iteration = 0\n",
    "\n",
    "    while iteration < max_iter:\n",
    "        x_new = np.zeros(n)  \n",
    "        for i in range(n):\n",
    "            x_new[i] = (b[i] - np.dot(A[i, :], x) + A[i, i] * x[i]) / A[i, i]\n",
    "        residual = np.linalg.norm(A @ x_new - b)  \n",
    "        if residual < eps:\n",
    "            return x_new  \n",
    "        x = x_new  \n",
    "        iteration += 1\n",
    "\n",
    "    raise Exception(\"Превышен лимит итераций\")\n",
    "\n",
    "\n",
    "A = np.array([[10, 2, 2],\n",
    "              [2, 10, 2],\n",
    "              [2, 2, 10]])\n",
    "b = np.array([12, 13, 14])\n",
    "x0 = np.array([0, 0, 0])\n",
    "eps = 1e-6\n",
    "max_iterations = 1000\n",
    "\n",
    "result = simple_iteration_method(A, b, x0, eps, max_iterations)\n",
    "print(\"Решение:\", result)\n",
    "\n"
   ]
  },
  {
   "cell_type": "markdown",
   "metadata": {},
   "source": [
    "2) Метод Зейделя"
   ]
  },
  {
   "cell_type": "code",
   "execution_count": 17,
   "metadata": {},
   "outputs": [
    {
     "name": "stdout",
     "output_type": "stream",
     "text": [
      "Решение: [0.80357145 0.92857145 1.05357145]\n"
     ]
    }
   ],
   "source": [
    "def gauss_seidel(A, b, x0, tol=1e-6, max_iter=1000) -> list:\n",
    "    n = len(b)\n",
    "    x = x0.copy()  \n",
    "    iteration = 0\n",
    "\n",
    "    while iteration < max_iter:\n",
    "        x_new = np.zeros(n)  \n",
    "        for i in range(n):\n",
    "            x_new[i] = (b[i] - np.dot(A[i, :i], x[:i]) - np.dot(A[i, i + 1:], x[i + 1:])) / A[i, i]\n",
    "\n",
    "        residual = np.linalg.norm(A @ x_new - b)  \n",
    "        if residual < tol:\n",
    "            return x_new  \n",
    "        x = x_new \n",
    "        iteration += 1\n",
    "\n",
    "    raise Exception(\"Превышен лимит итераций\") \n",
    "\n",
    "\n",
    "A = np.array([[10, 2, 2],\n",
    "              [2, 10, 2],\n",
    "              [2, 2, 10]])\n",
    "b = np.array([12, 13, 14])\n",
    "x0 = np.array([0, 0, 0])\n",
    "tolerance = 1e-6\n",
    "max_iterations = 1000\n",
    "\n",
    "result = gauss_seidel(A, b, x0, tolerance, max_iterations)\n",
    "print(\"Решение:\", result)"
   ]
  },
  {
   "cell_type": "markdown",
   "metadata": {},
   "source": [
    "Прямые методы"
   ]
  },
  {
   "cell_type": "markdown",
   "metadata": {},
   "source": [
    "1) Метод Гаусса (Метод единичного деления)"
   ]
  },
  {
   "cell_type": "code",
   "execution_count": 23,
   "metadata": {},
   "outputs": [
    {
     "name": "stdout",
     "output_type": "stream",
     "text": [
      "Решение: [0.80357143 0.92857143 1.05357143]\n"
     ]
    }
   ],
   "source": [
    "def gauss(A, b):\n",
    "    n = len(b)\n",
    "    Ab = np.column_stack((A, b)).astype(float)\n",
    "    \n",
    "    for i in range(n):\n",
    "        max_row = np.argmax(abs(Ab[i:, i])) + i\n",
    "        Ab[[i, max_row]] = Ab[[max_row, i]]\n",
    "        pivot = Ab[i, i]\n",
    "        Ab[i, :] = Ab[i, :].astype(float) / pivot\n",
    "        \n",
    "        for j in range(i + 1, n):\n",
    "            factor = Ab[j, i]\n",
    "            Ab[j, :] -= factor * Ab[i, :]\n",
    "\n",
    "    x = Ab[:, -1]\n",
    "    for i in range(n - 2, -1, -1):\n",
    "        x[i] -= np.sum(Ab[i, i + 1:n] * x[i + 1:])\n",
    "    \n",
    "    return x\n",
    "\n",
    "\n",
    "A = np.array([[10, 2, 2],\n",
    "              [2, 10, 2],\n",
    "              [2, 2, 10]])\n",
    "b = np.array([12, 13, 14])\n",
    "\n",
    "result = gauss(A, b)\n",
    "print(\"Решение:\", result)\n"
   ]
  },
  {
   "cell_type": "markdown",
   "metadata": {},
   "source": [
    "2) Метод исключения (прямоугольника)"
   ]
  },
  {
   "cell_type": "code",
   "execution_count": 26,
   "metadata": {},
   "outputs": [
    {
     "name": "stdout",
     "output_type": "stream",
     "text": [
      "Решение: [0.80357143 0.92857143 1.05357143]\n"
     ]
    }
   ],
   "source": [
    "def rectangular_elimination(A, b):\n",
    "    n = len(b)\n",
    "    \n",
    "    Ab = np.column_stack((A, b)).astype(float)\n",
    "    \n",
    "    for i in range(n):\n",
    "        for j in range(i + 1, n):\n",
    "            factor = Ab[j, i] / Ab[i, i]\n",
    "            Ab[j, i:] -= factor * Ab[i, i:]\n",
    "    \n",
    "    x = np.zeros(n)\n",
    "    for i in range(n - 1, -1, -1):\n",
    "        x[i] = (Ab[i, -1] - np.sum(Ab[i, i + 1:n] * x[i + 1:])) / Ab[i, i]\n",
    "    \n",
    "    return x\n",
    "\n",
    "\n",
    "A = np.array([[10, 2, 2],\n",
    "              [2, 10, 2],\n",
    "              [2, 2, 10]])\n",
    "b = np.array([12, 13, 14])\n",
    "\n",
    "result = rectangular_elimination(A, b)\n",
    "print(\"Решение:\", result)\n"
   ]
  },
  {
   "cell_type": "markdown",
   "metadata": {},
   "source": [
    "3) Выбор ведущего элемента по столбцу"
   ]
  },
  {
   "cell_type": "code",
   "execution_count": 30,
   "metadata": {},
   "outputs": [
    {
     "name": "stdout",
     "output_type": "stream",
     "text": [
      "Решение: [0.80357143 0.92857143 1.05357143]\n"
     ]
    }
   ],
   "source": [
    "def method_column_lead(A, b):\n",
    "    n = len(b)\n",
    "    Ab = np.column_stack((A, b)).astype(float)\n",
    "    \n",
    "    for i in range(n):\n",
    "        max_row = np.argmax(abs(Ab[i:, i])) + i\n",
    "        Ab[[i, max_row]] = Ab[[max_row, i]]\n",
    "        pivot = Ab[i, i]\n",
    "        Ab[i, :] /= pivot\n",
    "        \n",
    "        for j in range(i + 1, n):\n",
    "            factor = Ab[j, i]\n",
    "            Ab[j, :] -= factor * Ab[i, :]\n",
    "    \n",
    "    x = Ab[:, -1]\n",
    "    for i in range(n - 2, -1, -1):\n",
    "        x[i] -= np.sum(Ab[i, i + 1:n] * x[i + 1:])\n",
    "    \n",
    "    return x\n",
    "\n",
    "A = np.array([[10, 2, 2],\n",
    "              [2, 10, 2],\n",
    "              [2, 2, 10]])\n",
    "b = np.array([12, 13, 14])\n",
    "\n",
    "result = method_column_lead(A, b)\n",
    "print(\"Решение:\", result)\n"
   ]
  }
 ],
 "metadata": {
  "kernelspec": {
   "display_name": "Python 3",
   "language": "python",
   "name": "python3"
  },
  "language_info": {
   "codemirror_mode": {
    "name": "ipython",
    "version": 3
   },
   "file_extension": ".py",
   "mimetype": "text/x-python",
   "name": "python",
   "nbconvert_exporter": "python",
   "pygments_lexer": "ipython3",
   "version": "3.10.6"
  },
  "orig_nbformat": 4
 },
 "nbformat": 4,
 "nbformat_minor": 2
}
