{
 "cells": [
  {
   "cell_type": "markdown",
   "metadata": {},
   "source": [
    "Задача №1 (метод Ньютона)"
   ]
  },
  {
   "cell_type": "code",
   "execution_count": 2,
   "metadata": {},
   "outputs": [],
   "source": [
    "import numpy as np"
   ]
  },
  {
   "cell_type": "code",
   "execution_count": 16,
   "metadata": {},
   "outputs": [
    {
     "name": "stdout",
     "output_type": "stream",
     "text": [
      "-1.7408033907506966\n",
      "2.0994130386625263\n"
     ]
    }
   ],
   "source": [
    "def newton_metod(pol: np.poly1d, x0: float, eps: float):\n",
    "    f_der = np.polyder(pol)\n",
    "    x1 = x0 - pol(x0) / f_der(x0)\n",
    "    while (abs(x1 - x0) > eps):\n",
    "        x0 = x1\n",
    "        x1 = x0 - pol(x0) / f_der(x0)\n",
    "    return x1\n",
    "    \n",
    "def find_x0(pol: np.poly1d):\n",
    "    pol0 = pol(0)\n",
    "    for i in range(50):\n",
    "        if pol0 * pol(i + 1) <= 0:\n",
    "            return i + 1\n",
    "        if pol0 * pol(-(i + 1)) <= 0:\n",
    "            return -(i + 1)\n",
    "        \n",
    "f = np.poly1d([3, -4, -8, 10, -7])\n",
    "print(newton_metod(f, find_x0(f), 0.0001))\n",
    "print(newton_metod(f, 2, 0.0001))"
   ]
  },
  {
   "cell_type": "markdown",
   "metadata": {},
   "source": [
    "Задача №2 (упрощенный метод Ньютона)"
   ]
  },
  {
   "cell_type": "code",
   "execution_count": 10,
   "metadata": {},
   "outputs": [
    {
     "name": "stdout",
     "output_type": "stream",
     "text": [
      "-1.7408300572040543\n",
      "2.0994345864682127\n"
     ]
    }
   ],
   "source": [
    "def newton_update_metod(pol: np.poly1d, x0: float, eps: float):\n",
    "    f_der = np.polyder(pol)\n",
    "    x0_der = f_der(x0)\n",
    "    x1 = x0 - pol(x0) / f_der(x0)\n",
    "    while (abs(x1 - x0) > eps):\n",
    "        x0 = x1\n",
    "        x1 = x0 - pol(x0) / x0_der\n",
    "    return x1\n",
    "    \n",
    "def find_x0(pol: np.poly1d, max_iter: float = 50.0):\n",
    "    pol0 = pol(0)\n",
    "    for i in range(50):\n",
    "        if pol0 * pol(i + 1) <= 0:\n",
    "            return i + 1\n",
    "        if pol0 * pol(-(i + 1)) <= 0:\n",
    "            return -(i + 1)\n",
    "\n",
    "f = np.poly1d([3, -4, -8, 10, -7])\n",
    "print(newton_update_metod(f, find_x0(f), 0.0001))\n",
    "print(newton_update_metod(f, 2, 0.0001))  \n"
   ]
  },
  {
   "cell_type": "markdown",
   "metadata": {},
   "source": [
    "Задача №3 (метод Ньютона-Бройдена)"
   ]
  },
  {
   "cell_type": "code",
   "execution_count": 11,
   "metadata": {},
   "outputs": [
    {
     "name": "stdout",
     "output_type": "stream",
     "text": [
      "-1.7408033907506966\n",
      "2.0994130386625263\n"
     ]
    }
   ],
   "source": [
    "def newton_broyden_metod(pol: np.poly1d, x0: float, eps: float, c: float):\n",
    "    f_der = np.polyder(pol)\n",
    "    x1 = x0 - pol(x0) / f_der(x0)\n",
    "    while (abs(x1 - x0) > eps):\n",
    "        x0 = x1\n",
    "        x1 = x0 - pol(x0) / f_der(x0)\n",
    "    return x1\n",
    "    \n",
    "def find_x0(pol: np.poly1d, max_iter: float = 50.0):\n",
    "    pol0 = pol(0)\n",
    "    for i in range(50):\n",
    "        if pol0 * pol(i + 1) <= 0:\n",
    "            return i + 1\n",
    "        if pol0 * pol(-(i + 1)) <= 0:\n",
    "            return -(i + 1)\n",
    "    \n",
    "f = np.poly1d([3, -4, -8, 10, -7])\n",
    "print(newton_broyden_metod(f, find_x0(f), 0.0001, 1.5))\n",
    "print(newton_broyden_metod(f, 2, 0.0001, 1.5))"
   ]
  },
  {
   "cell_type": "markdown",
   "metadata": {},
   "source": [
    "Задача №4 (метод секущих)"
   ]
  },
  {
   "cell_type": "code",
   "execution_count": 12,
   "metadata": {},
   "outputs": [
    {
     "name": "stdout",
     "output_type": "stream",
     "text": [
      "-1.7408047023490894\n",
      "2.0994231527700182\n"
     ]
    }
   ],
   "source": [
    "def secant_metod(pol: np.poly1d, x0: float, eps: float, sec: float):\n",
    "    f_der = (pol(x0) - pol(x0 - sec)) / sec\n",
    "    x1 = x0 - pol(x0) / f_der\n",
    "    while (abs(x1 - x0) > eps):\n",
    "        x0 = x1\n",
    "        f_der = (pol(x0) - pol(x0 - sec)) / sec\n",
    "        x1 = x0 - pol(x0) / f_der\n",
    "    return x1\n",
    "    \n",
    "def find_x0(pol: np.poly1d, max_iter: float = 50.0):\n",
    "    pol0 = pol(0)\n",
    "    for i in range(50):\n",
    "        if pol0 * pol(i + 1) <= 0:\n",
    "            return i + 1\n",
    "        if pol0 * pol(-(i + 1)) <= 0:\n",
    "            return -(i + 1)\n",
    "\n",
    "f = np.poly1d([3, -4, -8, 10, -7])\n",
    "print(secant_metod(f, find_x0(f), 0.0001, 0.1))\n",
    "print(secant_metod(f, 2, 0.0001, 0.1))"
   ]
  }
 ],
 "metadata": {
  "kernelspec": {
   "display_name": "Python 3",
   "language": "python",
   "name": "python3"
  },
  "language_info": {
   "codemirror_mode": {
    "name": "ipython",
    "version": 3
   },
   "file_extension": ".py",
   "mimetype": "text/x-python",
   "name": "python",
   "nbconvert_exporter": "python",
   "pygments_lexer": "ipython3",
   "version": "3.10.6"
  },
  "orig_nbformat": 4
 },
 "nbformat": 4,
 "nbformat_minor": 2
}
