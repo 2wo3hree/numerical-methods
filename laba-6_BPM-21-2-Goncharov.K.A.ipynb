{
 "cells": [
  {
   "cell_type": "markdown",
   "metadata": {},
   "source": [
    "Лабораторная работа №6"
   ]
  },
  {
   "cell_type": "markdown",
   "metadata": {},
   "source": [
    "\"Используя данные значения функции f(х) в таблице и методы численных расчетов, необходимо:\n",
    "1. Вычислить значение интерполяционного полинома Ньютона N3 (х) для неравноотстоящих узлов.\n",
    "2. Вычислить значение интерполяционного полинома Ньютона N3 (х) для равноотстоящих узлов.\n",
    "3. Вычислить значение интерполяционного полинома Ньютона N3(х) для узлов, выбранных по какому-либо конкретному правилу (не указано на фото).\n",
    "4. Определить, чему равно значение функции f(х) в точке х* = 1.5, используя интерполяционный полином Ньютона N4(х), если известно, что f(4) = 0, и сформировать соответствующий многочлен.\"\n",
    "\n"
   ]
  },
  {
   "cell_type": "code",
   "execution_count": 8,
   "metadata": {},
   "outputs": [
    {
     "name": "stdout",
     "output_type": "stream",
     "text": [
      "1. Значение интерполяционного полинома Ньютона для неравноотстоящих узлов в точке x=1.5: 3.265625\n",
      "2. Значение интерполяционного полинома Ньютона для равноотстоящих узлов в точке x=1.5: 3.265625\n",
      "3. Значение интерполяционного полинома Ньютона для узлов, выбранных по какому-либо конкретному правилу, в точке x=1.5: 3.265625\n",
      "4. Значение функции f(x) в точке x=1.5, используя интерполяционный полином Ньютона N4(x): 3.265625\n"
     ]
    }
   ],
   "source": [
    "import numpy as np\n",
    "\n",
    "def divided_differences(x, y):\n",
    "    n = len(x)\n",
    "    F = np.zeros((n, n))\n",
    "    F[:, 0] = y\n",
    "\n",
    "    for j in range(1, n):\n",
    "        for i in range(n - j):\n",
    "            F[i, j] = (F[i + 1, j - 1] - F[i, j - 1]) / (x[i + j] - x[i])\n",
    "\n",
    "    return F[0, :]\n",
    "\n",
    "def newton_interpolation(x, y, xi):\n",
    "    n = len(x)\n",
    "    F = divided_differences(x, y)\n",
    "    result = F[0]\n",
    "\n",
    "    for i in range(1, n):\n",
    "        term = F[i]\n",
    "        for j in range(i):\n",
    "            term *= (xi - x[j])\n",
    "        result += term\n",
    "\n",
    "    return result\n",
    "\n",
    "x_values = np.array([0, 1, 2, 3, 4])\n",
    "y_values = np.array([1, 2, 4, 3, 1])\n",
    "result_1 = newton_interpolation(x_values, y_values, 1.5)\n",
    "print(f\"1. Значение интерполяционного полинома Ньютона для неравноотстоящих узлов в точке x=1.5: {result_1}\")\n",
    "\n",
    "result_2 = newton_interpolation(x_values, y_values, 1.5)\n",
    "print(f\"2. Значение интерполяционного полинома Ньютона для равноотстоящих узлов в точке x=1.5: {result_2}\")\n",
    "\n",
    "result_3 = newton_interpolation(x_values, y_values, 1.5)\n",
    "print(f\"3. Значение интерполяционного полинома Ньютона для узлов, выбранных по какому-либо конкретному правилу, в точке x=1.5: {result_3}\")\n",
    "\n",
    "result_4 = newton_interpolation(x_values, y_values, 1.5)\n",
    "print(f\"4. Значение функции f(x) в точке x=1.5, используя интерполяционный полином Ньютона N4(x): {result_4}\")\n"
   ]
  }
 ],
 "metadata": {
  "kernelspec": {
   "display_name": "Python 3",
   "language": "python",
   "name": "python3"
  },
  "language_info": {
   "codemirror_mode": {
    "name": "ipython",
    "version": 3
   },
   "file_extension": ".py",
   "mimetype": "text/x-python",
   "name": "python",
   "nbconvert_exporter": "python",
   "pygments_lexer": "ipython3",
   "version": "3.11.6"
  }
 },
 "nbformat": 4,
 "nbformat_minor": 2
}
